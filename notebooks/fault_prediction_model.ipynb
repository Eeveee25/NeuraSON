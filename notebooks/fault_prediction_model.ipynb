import pandas as pd
from sklearn.ensemble import RandomForestClassifier
from sklearn.model_selection import train_test_split
from sklearn.metrics import classification_report
import joblib

# Step 1: Load the data
df = pd.read_csv("data/kpi_sample.csv")

# Step 2: Create a target column (1 = fault, 0 = no fault)
df['fault_flag'] = df['call_drops'].apply(lambda x: 1 if x > 0 else 0)

# Step 3: Select features and target
features = ['RSRP', 'RSRQ', 'SINR', 'throughput_Mbps']
X = df[features]
y = df['fault_flag']

# Step 4: Split data into training and test sets
X_train, X_test, y_train, y_test = train_test_split(X, y, test_size=0.2, random_state=42)

# Step 5: Train the model
model = RandomForestClassifier(n_estimators=100, random_state=42)
model.fit(X_train, y_train)

# Step 6: Evaluate the model
y_pred = model.predict(X_test)
print("Classification Report:\n", classification_report(y_test, y_pred))

# Step 7: Save the trained model
joblib.dump(model, "models/fault_predictor.pkl")
print("Model saved as models/fault_predictor.pkl")

